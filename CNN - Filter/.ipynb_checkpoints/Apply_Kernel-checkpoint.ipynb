{
 "cells": [
  {
   "cell_type": "markdown",
   "id": "960894b5-04d6-4653-8069-b0d011ea70af",
   "metadata": {},
   "source": [
    "<img src=\"../img/Logo.png\" width=\"300\">\n",
    "\n",
    "# Filtros en las CNN - P2\n",
    "## Computer Vision\n",
    "\n",
    "### Profesor: Jorge Calvo"
   ]
  },
  {
   "cell_type": "code",
   "execution_count": null,
   "id": "58672d7b-7421-4b79-83de-097f1f6e4ad5",
   "metadata": {},
   "outputs": [],
   "source": [
    "import numpy as np\n",
    "import random\n",
    "import matplotlib.pyplot as plt\n",
    "import tensorflow as tf\n",
    "from tensorflow.keras.utils import plot_model\n",
    "\n",
    "import os\n",
    "\n",
    "os.environ['TF_CPP_MIN_LOG_LEVEL'] = '2'  # Solo mostrar errores y advertencias críticas\n",
    "\n",
    "# Configurar el crecimiento de memoria en la GPU\n",
    "gpus = tf.config.experimental.list_physical_devices('GPU')\n",
    "if gpus:\n",
    "    try:\n",
    "        for gpu in gpus:\n",
    "            tf.config.experimental.set_memory_growth(gpu, True)\n",
    "    except RuntimeError as e:\n",
    "        print(e)\n",
    "\n",
    "os.environ['TF_CPP_MIN_LOG_LEVEL'] = '2' \n",
    "print(\"GPUs disponibles: \", tf.config.experimental.list_physical_devices('GPU'))\n"
   ]
  },
  {
   "cell_type": "code",
   "execution_count": null,
   "id": "aa243f29",
   "metadata": {},
   "outputs": [],
   "source": [
    "# Definir los kernels personalizados\n",
    "kernels = [\n",
    "    np.array([[-1, 0, 1], [-2, 0, 2], [-1, 0, 1]]),    # Kernel 1\n",
    "    np.array([[-1, -1, -1], [-1, 10, -1], [-1, -1, -1]]),    # Kernel 2\n",
    "    np.array([[-1, -2, -1], [0, 0, 0], [1, 2, 1]]),    # Kernel 3\n",
    "    \n",
    "    np.array([[-1, -2, -1], [1, 0, 1], [1, 2, 1]]),    # Kernel 4\n",
    "    np.array([[-1, 0, 1], [-2, 0, 2], [-1, 0, 1]]),    # Kernel 5\n",
    "    np.array([[-1, -1, -1], [-1, 10, -1], [-1, -1, -1]]),    # Kernel 6\n",
    "    \n",
    "    np.array([[-1, -2, -1], [0, 0, 0], [1, 2, 1]]),    # Kernel 7\n",
    "    np.array([[-1, -2, -1], [1, 0, 1], [1, 2, 1]]),    # Kernel 8\n",
    "    np.array([[-1, -2, -1], [1, 0, 1], [1, 2, 1]])    # Kernel 9\n",
    "]\n",
    "\n",
    "#Crear Kernel totalmente aleatorio\n",
    "def create_kernel(num_arrays,size_k):\n",
    "    arrays = []\n",
    "    for _ in range(num_arrays):\n",
    "        array = np.random.randint(-1,1,size=size_k)\n",
    "        arrays.append(array)\n",
    "    return arrays\n",
    "\n",
    "#Crear Kernel parametrizado\n",
    "def create_kernel_r(num_arrays):\n",
    "    kernel=[]\n",
    "    c=0\n",
    "    #array = np.random.randint(-1,1,size=(3, 3))\n",
    "    for _ in range(num_arrays):\n",
    "        array= np.array([[c, -1, -1], [1, 1, 1], [c, 0, 0]])\n",
    "        kernel.append(array)\n",
    "        c=random.randint(-1,1)\n",
    "    return kernel\n",
    "\n",
    "#Parametros\n",
    "n_kernels=#\n",
    "size_kernel=#\n",
    "#kernels=create_kernel_r(n_kernels)\n",
    "\n",
    "\n",
    "#Función de Activación\n",
    "sigm = lambda x:1/(1+np.e**(-x))\n",
    "tanh = (lambda x: (np.e**(x) - np.e**(-x))/(np.e**(x) + np.e**(-x)))\n",
    "swish=(lambda x: x*sigm(x))"
   ]
  },
  {
   "cell_type": "code",
   "execution_count": null,
   "id": "5f50beae-1694-4a5f-aea6-b77598b79931",
   "metadata": {},
   "outputs": [],
   "source": [
    "# Cargar la imagen\n",
    "image_path = '../images/camion.jpg'\n",
    "image = plt.imread(image_path)\n",
    "plt.axis(\"off\")\n",
    "plt.imshow(image)"
   ]
  },
  {
   "cell_type": "code",
   "execution_count": null,
   "id": "3e3f1c88-ec28-4eac-ade2-7a147d8253b1",
   "metadata": {},
   "outputs": [],
   "source": [
    "kernels[:3]"
   ]
  },
  {
   "cell_type": "code",
   "execution_count": null,
   "id": "af4fdffb-6e53-4eea-b722-ca321004a074",
   "metadata": {},
   "outputs": [],
   "source": [
    "# Convertir la imagen a un tensor de TensorFlow\n",
    "image_tensor = tf.convert_to_tensor(image, dtype=tf.float32)\n",
    "image_tensor = tf.expand_dims(image_tensor, axis=0)  # Agregar una dimensión para el batch\n",
    "\n",
    "# Definir la red convolucional\n",
    "model = tf.keras.Sequential([\n",
    "    tf.keras.layers.Conv2D(#, size_kernel,  activation=sigm, padding='same', name=\"Layer1\", input_shape=image.shape,kernel_initializer=tf.keras.initializers.Constant(kernels[:9])),\n",
    "    tf.keras.layers.MaxPooling2D(pool_size=(2,2)),\n",
    "    tf.keras.layers.Conv2D(#, size_kernel, activation=tanh, padding='same', name=\"Layer2\", strides=(2, 2),kernel_initializer=tf.keras.initializers.Constant(kernels[:9])),\n",
    "])"
   ]
  },
  {
   "cell_type": "code",
   "execution_count": null,
   "id": "25093dee-9f04-4649-9371-b6f49594e11b",
   "metadata": {},
   "outputs": [],
   "source": [
    "plot_model(model, to_file='./red_convolucional.png', show_shapes=True, show_layer_names=True, dpi=96)"
   ]
  },
  {
   "cell_type": "code",
   "execution_count": null,
   "id": "15ab8126-2685-4815-ba0e-178e9e3791a9",
   "metadata": {},
   "outputs": [],
   "source": [
    "# Obtener las salidas de las capas convolucionales\n",
    "conv_layers = [layer for layer in model.layers if isinstance(layer, tf.keras.layers.Conv2D)]\n",
    "conv_outputs = [layer.output for layer in conv_layers]\n",
    "activation_model = tf.keras.models.Model(inputs=model.input, outputs=conv_outputs)\n",
    "activations = activation_model.predict(image_tensor)"
   ]
  },
  {
   "cell_type": "code",
   "execution_count": null,
   "id": "fc018b12-d5b7-4e4b-afd6-8a0a19c966fe",
   "metadata": {},
   "outputs": [],
   "source": [
    "# Mostrar las imágenes filtradas resultantes\n",
    "titles = ['Layer 1', 'Layer 2']\n",
    "fig, axs = plt.subplots(1, len(activations), figsize=(12, 4))\n",
    "\n",
    "for i, output_image in enumerate(activations):\n",
    "    axs[i].imshow(np.clip(output_image[0],0,1))\n",
    "    axs[i].axis('off')\n",
    "    axs[i].set_title(titles[i])\n",
    "    \n",
    "\n",
    "plt.show()"
   ]
  },
  {
   "cell_type": "code",
   "execution_count": null,
   "id": "cb73c69f-c7ea-4b01-a810-eba324df8d44",
   "metadata": {},
   "outputs": [],
   "source": [
    "for i in range (0,len(activations)):\n",
    "    tf.keras.preprocessing.image.save_img(f'output_image_{i}.jpg',activations[i][0])"
   ]
  },
  {
   "cell_type": "code",
   "execution_count": null,
   "id": "12995a4b-9792-4302-86b6-41ce6e1ad582",
   "metadata": {},
   "outputs": [],
   "source": []
  }
 ],
 "metadata": {
  "kernelspec": {
   "display_name": "Python 3 (ipykernel)",
   "language": "python",
   "name": "python3"
  },
  "language_info": {
   "codemirror_mode": {
    "name": "ipython",
    "version": 3
   },
   "file_extension": ".py",
   "mimetype": "text/x-python",
   "name": "python",
   "nbconvert_exporter": "python",
   "pygments_lexer": "ipython3",
   "version": "3.11.7"
  }
 },
 "nbformat": 4,
 "nbformat_minor": 5
}
