{
 "cells": [
  {
   "cell_type": "markdown",
   "id": "f4b5061e-e3ea-4e13-bbb0-103c37f256de",
   "metadata": {},
   "source": [
    "<img src=\"../img/Logo.png\" width=\"300\">\n",
    "\n",
    "# Filtros en las CNN - P3\n",
    "## Computer Vision\n",
    "\n",
    "### Profesor: Jorge Calvo"
   ]
  },
  {
   "cell_type": "code",
   "execution_count": null,
   "id": "82fe7ef7-6fbc-4171-b908-d410561f0773",
   "metadata": {},
   "outputs": [],
   "source": [
    "import numpy as np\n",
    "import matplotlib.pyplot as plt\n",
    "import tensorflow as tf\n",
    "from tensorflow.keras.utils import plot_model\n",
    "\n",
    "# Definir los kernels\n",
    "kernels = [\n",
    "    np.array([[-1, 0, 1], [-2, 0, 2], [-1, 0, 1]]),    # Kernel 1\n",
    "    np.array([[-1, -1, -1], [-1, 8, -1], [-1, -1, -1]]),    # Kernel 2\n",
    "    np.array([[-1, -2, -1], [0, 0, 0], [1, 2, 1]]),    # Kernel 3\n",
    "]\n",
    "\n",
    "# Cargar la imagen\n",
    "image_path = '../images/gioconda.jpg'\n",
    "image = plt.imread(image_path)"
   ]
  },
  {
   "cell_type": "code",
   "execution_count": null,
   "id": "f577a0af-7909-42c6-83c0-6a95d114d3fa",
   "metadata": {},
   "outputs": [],
   "source": [
    "# Convertir la imagen a un tensor de TensorFlow\n",
    "image_tensor = tf.convert_to_tensor(image, dtype=tf.float32)\n",
    "image_tensor = tf.expand_dims(image_tensor, axis=0)  # Agregar una dimensión para el batch\n",
    "\n",
    "# Definir la red convolucional\n",
    "model = tf.keras.Sequential([\n",
    "    tf.keras.layers.Conv2D(3, (3, 3),  activation='relu', padding=\"same\", strides=(2,2),input_shape=image.shape),\n",
    "    tf.keras.layers.MaxPooling2D(pool_size=(2,2)),\n",
    "])"
   ]
  },
  {
   "cell_type": "code",
   "execution_count": null,
   "id": "c4c7f162-d627-4257-896c-5a75bd7f641a",
   "metadata": {},
   "outputs": [],
   "source": [
    "plot_model(model, to_file='./red_convolucional.png', show_shapes=True, show_layer_names=True, dpi=96)"
   ]
  },
  {
   "cell_type": "code",
   "execution_count": null,
   "id": "9c041d97-8c59-4b01-99f8-bc979a74977e",
   "metadata": {},
   "outputs": [],
   "source": [
    "model.summary()"
   ]
  },
  {
   "cell_type": "code",
   "execution_count": null,
   "id": "f0b9959d-b77f-4898-9aac-2a3d87129a81",
   "metadata": {},
   "outputs": [],
   "source": [
    "# Aplicar los kernels a la imagen\n",
    "filtered_images = []\n",
    "for kernel in kernels:\n",
    "    # Crear una copia del modelo para evitar problemas con los pesos compartidos\n",
    "    model_copy = tf.keras.models.clone_model(model)\n",
    "    \n",
    "    # Configurar los pesos del modelo con el kernel actual\n",
    "    weights = np.zeros((3, 3, 3, 3))\n",
    "    for i in range(3):\n",
    "        weights[:, :, i, i] = kernel\n",
    "    model_copy.set_weights([weights, np.zeros(3)])\n",
    "\n",
    "    # Aplicar la convolución\n",
    "    filtered_image = model_copy.predict(image_tensor)[0]\n",
    "    filtered_images.append(filtered_image)"
   ]
  },
  {
   "cell_type": "code",
   "execution_count": null,
   "id": "74a2dd88-3050-48b5-a0ee-6185c1863b10",
   "metadata": {},
   "outputs": [],
   "source": [
    "# Mostrar las imágenes filtradas\n",
    "titles = ['Kernel 1', 'Kernel 2', 'Kernel 3']\n",
    "fig, axes = plt.subplots(1, len(filtered_images) + 1, figsize=(15, 5))\n",
    "axes[0].imshow(image)\n",
    "axes[0].set_title('Original')\n",
    "for i, filtered_image in enumerate(filtered_images):\n",
    "    axes[i + 1].imshow(filtered_image)\n",
    "    axes[i + 1].set_title(titles[i])\n",
    "plt.show()\n"
   ]
  },
  {
   "cell_type": "code",
   "execution_count": null,
   "id": "4a50926a-3639-4d76-8f56-82d78d5d34d0",
   "metadata": {},
   "outputs": [],
   "source": []
  }
 ],
 "metadata": {
  "kernelspec": {
   "display_name": "Python 3 (ipykernel)",
   "language": "python",
   "name": "python3"
  },
  "language_info": {
   "codemirror_mode": {
    "name": "ipython",
    "version": 3
   },
   "file_extension": ".py",
   "mimetype": "text/x-python",
   "name": "python",
   "nbconvert_exporter": "python",
   "pygments_lexer": "ipython3",
   "version": "3.11.7"
  }
 },
 "nbformat": 4,
 "nbformat_minor": 5
}
