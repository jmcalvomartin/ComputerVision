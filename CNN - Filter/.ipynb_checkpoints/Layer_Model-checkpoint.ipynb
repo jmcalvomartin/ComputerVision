{
 "cells": [
  {
   "cell_type": "markdown",
   "id": "06dc8b67-31f2-4292-82a6-e4e478ed9639",
   "metadata": {},
   "source": [
    "<img src=\"../img/Logo.png\" width=\"300\">\n",
    "\n",
    "# Los Filtros en las CNN - P1\n",
    "### Asignatura: Computer Vision\n",
    "\n",
    "### Profesor: Jorge Calvo"
   ]
  },
  {
   "cell_type": "code",
   "execution_count": null,
   "id": "38b56135",
   "metadata": {},
   "outputs": [],
   "source": [
    "import tensorflow as tf\n",
    "import matplotlib.pyplot as plt\n",
    "import numpy as np\n",
    "from tensorflow.keras.utils import plot_model\n",
    "import random\n",
    "\n",
    "import os\n",
    "\n",
    "# Configurar el crecimiento de memoria en la GPU\n",
    "gpus = tf.config.experimental.list_physical_devices('GPU')\n",
    "if gpus:\n",
    "    try:\n",
    "        for gpu in gpus:\n",
    "            tf.config.experimental.set_memory_growth(gpu, True)\n",
    "    except RuntimeError as e:\n",
    "        print(e)\n",
    "\n",
    "os.environ['TF_CPP_MIN_LOG_LEVEL'] = '2' \n",
    "print(\"GPUs disponibles: \", tf.config.experimental.list_physical_devices('GPU'))"
   ]
  },
  {
   "cell_type": "code",
   "execution_count": null,
   "id": "e0e94cb3",
   "metadata": {},
   "outputs": [],
   "source": [
    "# Personalizar los filtros\n",
    "\n",
    "# Definir los kernels\n",
    "\n",
    "def create_kernel_r(num_arrays):\n",
    "    kernel=[]\n",
    "    c=2\n",
    "    #array = np.random.randint(-1,1,size=(3, 3))\n",
    "    for _ in range(num_arrays):\n",
    "        array= np.array([[c, 1, -1], [0, 1, -1], [c, 1, -1]])\n",
    "        kernel.append(array)\n",
    "        c=random.randint(-1,1)\n",
    "    return kernel\n",
    "\n",
    "n_kernels= #VALOR\n",
    "size_kernel= #VALOR\n",
    "kernels=create_kernel_r(n_kernels)\n",
    "\n",
    "#aplicar Kernle personalizado\n",
    "#kernel_initializer=tf.keras.initializers.Constant(kernels)\n"
   ]
  },
  {
   "cell_type": "code",
   "execution_count": null,
   "id": "5d13c6c8-1dc2-4138-bf56-0d383e53ea8d",
   "metadata": {},
   "outputs": [],
   "source": [
    "kernels[:3]"
   ]
  },
  {
   "cell_type": "code",
   "execution_count": null,
   "id": "009a2365-7946-43c3-bbf8-e412bfd3d0f2",
   "metadata": {},
   "outputs": [],
   "source": [
    "# Crear el modelo secuencial\n",
    "model = tf.keras.Sequential([\n",
    "    tf.keras.layers.Conv2D(#, #, activation='relu', padding='same', name=\"Conv1\",input_shape=(256, 256, 3),kernel_initializer=#),\n",
    "    tf.keras.layers.MaxPooling2D((2, 2)),\n",
    "    tf.keras.layers.Conv2D(#, #, activation='relu',padding='same',name=\"Conv2\",),\n",
    "    tf.keras.layers.MaxPooling2D((2, 2)),\n",
    "    tf.keras.layers.Conv2D(#, #, activation='relu',padding=\"valid\",strides=(2,2),name=\"Conv3\",),\n",
    "    tf.keras.layers.Flatten(),\n",
    "    tf.keras.layers.Dense(#, activation='relu'),\n",
    "    tf.keras.layers.Dense(#, activation='softmax')\n",
    "])"
   ]
  },
  {
   "cell_type": "code",
   "execution_count": null,
   "id": "96d0a7b2-796e-4ab0-9226-2bad407e66b8",
   "metadata": {},
   "outputs": [],
   "source": [
    "model.summary()"
   ]
  },
  {
   "cell_type": "code",
   "execution_count": null,
   "id": "86432f43-d860-4f98-ae5a-eb88065c017f",
   "metadata": {},
   "outputs": [],
   "source": [
    "plot_model(model, to_file='./red_convolucional_2.png', show_shapes=True, show_layer_names=True, dpi=96)"
   ]
  },
  {
   "cell_type": "code",
   "execution_count": null,
   "id": "a2858390",
   "metadata": {},
   "outputs": [],
   "source": [
    "# Lista de rutas de las imágenes\n",
    "image_paths = ['../images/camion.jpg', '../images/land.jpg', '../images/tractor.jpg']\n",
    "\n",
    "# Crear una figura con tres subplots\n",
    "fig, axes = plt.subplots(1, 3, figsize=(15, 5))  # 1 fila, 3 columnas\n",
    "\n",
    "# Iterar sobre las rutas de las imágenes y los subplots\n",
    "for ax, path in zip(axes, image_paths):\n",
    "    cuadro = plt.imread(path)\n",
    "    ax.axis(\"off\")\n",
    "    ax.imshow(cuadro)\n",
    "\n",
    "# Mostrar la figura con las tres imágenes\n",
    "plt.show()"
   ]
  },
  {
   "cell_type": "code",
   "execution_count": null,
   "id": "4fd068b3-962a-4128-b05e-051acdac59d2",
   "metadata": {},
   "outputs": [],
   "source": [
    "# Cargar y preprocesar las imágenes de ejemplo\n",
    "image_paths = ['../images/camion.jpg', '../images/land.jpg', '../images/tractor.jpg']\n",
    "images = []\n",
    "for path in image_paths:\n",
    "    image = tf.keras.preprocessing.image.load_img(path, target_size=(#,#))\n",
    "    image = tf.keras.preprocessing.image.img_to_array(image)\n",
    "    image = np.expand_dims(image, axis=0)\n",
    "    images.append(image)\n",
    "\n",
    "images = np.vstack(images)\n",
    "\n",
    "# Obtener las salidas de las capas convolucionales\n",
    "conv_layers = [layer for layer in model.layers if isinstance(layer, tf.keras.layers.Conv2D)]\n",
    "conv_outputs = [layer.output for layer in conv_layers]\n",
    "activation_model = tf.keras.models.Model(inputs=model.input, outputs=conv_outputs)\n",
    "activations = activation_model.predict(images)\n",
    "\n",
    "# Visualizar las características de cada capa convolucional para cada imagen\n",
    "for i in range(len(images)):\n",
    "    for j, activation in enumerate(activations):\n",
    "        fig, axes = plt.subplots(1, activation.shape[-1], figsize=(16, 3))\n",
    "        fig.suptitle('Imagen {} - Capa convolucional {}'.format(i+1, j+1))\n",
    "        \n",
    "        for k, ax in enumerate(axes.flat):\n",
    "            ax.imshow(activation[i, :, :, k])\n",
    "            ax.axis('off')\n",
    "        \n",
    "        plt.show()\n"
   ]
  },
  {
   "cell_type": "code",
   "execution_count": null,
   "id": "7a504b46-8b1d-4e9d-82d5-c11056da8e27",
   "metadata": {},
   "outputs": [],
   "source": []
  },
  {
   "cell_type": "code",
   "execution_count": null,
   "id": "876ffc50-b9d2-45cb-b7d9-b9c8203459ba",
   "metadata": {},
   "outputs": [],
   "source": []
  }
 ],
 "metadata": {
  "kernelspec": {
   "display_name": "Python 3 (ipykernel)",
   "language": "python",
   "name": "python3"
  },
  "language_info": {
   "codemirror_mode": {
    "name": "ipython",
    "version": 3
   },
   "file_extension": ".py",
   "mimetype": "text/x-python",
   "name": "python",
   "nbconvert_exporter": "python",
   "pygments_lexer": "ipython3",
   "version": "3.11.7"
  }
 },
 "nbformat": 4,
 "nbformat_minor": 5
}
