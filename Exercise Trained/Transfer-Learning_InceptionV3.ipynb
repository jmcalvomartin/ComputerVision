{
 "cells": [
  {
   "cell_type": "markdown",
   "id": "89639729-856f-4195-a27a-c02a3e76aadb",
   "metadata": {},
   "source": [
    "<img src=\"../img/Logo.png\" width=\"200\">\n",
    "\n",
    "# Aprendizaje por Imágenes\n",
    "# Ejercicio - Modelo Preentrenado InceptionV3\n",
    "\n",
    "### Profesor: Jorge Calvo\n",
    "\n",
    "## Modelo Inception V3\n",
    "\n",
    "https://keras.io/api/applications/inceptionv3/\n",
    "\n",
    "En esta actividad, el alumno debe evaluar la clasificación de imágenes en el dataset Caltech 101. \n",
    "Descarga del dataset: https://data.caltech.edu/records/mzrjq-6wc02\n",
    "\n",
    "### Estrategia: Red pre-entrenada\n",
    "\n",
    "Incluir la utilización de una red preentrenada con el dataset ImageNet, para ello se usará un modelo como **InceptionV3** llevando a cabo tareas de *transfer learning* y *fine-tuning* para clasificar los objetos de Caltech 101. \n",
    "Se espera que el alumno utilice todas las técnicas de optimización que conoce (weight regularization, dropout, batch normalization, data augmentation..) y añada obligatoriamente una de las dos técnicas de compresión vistas en clase (Reducción de color con clustering o reducción de información con SVD) de forma justificada para la mejora del rendimiento de la red neuronal.\n",
    "\n",
    "\n",
    "### Rúbrica para la Tarea: Clasificación de Imágenes en Caltech 101\n",
    "\n",
    "La tarea se compone de dos ítems y se evaluará en función de 4 descriptores (nota de 0 a 4).\n",
    "\n",
    "---\n",
    "\n",
    "#### Ítem 1: Modelo InceptionV3 y Fine-Tuning (Revisión el 24/03/2025 en aula)\n",
    "\n",
    "Se evaluará la correcta adaptación y entrenamiento del modelo preentrenado InceptionV3 al dataset Caltech 101, incluyendo la aplicación de técnicas de optimización (regularización, dropout, batch normalization, data augmentation, etc.) y el análisis de las primeras métricas obtenidas.\n",
    "\n",
    "| **Criterio**                              | **Excelente (4)**                                                                                                                                       | **Bueno (3)**                                                                                                                                   | **Satisfactorio (2)**                                                                                                                  | **Insuficiente (1)**                                                                                                       |\n",
    "|-------------------------------------------|---------------------------------------------------------------------------------------------------------------------------------------------------------|-------------------------------------------------------------------------------------------------------------------------------------------------|-----------------------------------------------------------------------------------------------------------------------------------------|---------------------------------------------------------------------------------------------------------------------------|\n",
    "| **Implementación del Modelo Preentrenado**  | Adapta InceptionV3 de forma completa y precisa al dataset Caltech 101, demostrando dominio en la integración del modelo preentrenado.                   | Adapta InceptionV3 correctamente, con leves omisiones o errores menores que no afectan significativamente el desempeño.                          | La adaptación es parcial o presenta errores notables que afectan el rendimiento del modelo.                                               | La implementación es deficiente o incompleta, con errores graves en la integración del modelo preentrenado.               |\n",
    "| **Optimización y Fine-Tuning**            | Aplica de forma óptima técnicas de optimización y fine-tuning (regularización, dropout, batch normalization, data augmentation, etc.), justificándolo en detalle. | Utiliza técnicas de optimización de forma correcta, con justificación aceptable, aunque podría profundizarse en algunos aspectos.                  | Se aplican algunas técnicas de optimización, pero la integración y justificación resultan insuficientes o poco claras.                       | No se aplican o se aplican de manera incorrecta las técnicas de optimización y fine-tuning, sin justificación adecuada.     |\n",
    "| **Resultados y Análisis de Métricas**       | Presenta métricas claras y un análisis profundo (accuracy, loss, etc.), evidenciando una excelente comprensión del comportamiento del modelo.          | Muestra las métricas y un análisis adecuado, aunque con menor profundidad o detalle.                                                          | Se presentan las métricas, pero el análisis es superficial o incompleto, dificultando la interpretación de los resultados.                   | Los resultados son confusos, mal presentados o ausentes, sin un análisis que respalde el desempeño del modelo.             |\n",
    "| **Documentación y Justificación**         | El notebook está perfectamente documentado, con comentarios claros y justificaciones completas de todas las decisiones tomadas durante el proceso.  | La documentación es buena, con comentarios y justificaciones en la mayoría de las partes, aunque existen algunas lagunas en la explicación.     | La documentación es mínima y las justificaciones resultan escasas o poco claras, dificultando la replicación o el entendimiento del proceso. | La falta de documentación y justificación impide comprender el proceso y las decisiones adoptadas en el desarrollo del modelo. |\n",
    "\n",
    "---\n",
    "\n",
    "#### Ítem 2: Comparativa con Técnica de Compresión de Imagen (Entrega en tarea el 31/03/2025)\n",
    "\n",
    "Se evaluará la implementación de una técnica de compresión (reducción de color mediante clustering o SVD) aplicada al modelo y la comparativa de rendimiento entre el modelo original y el modelo con compresión, incluyendo la justificación y conclusiones.\n",
    "\n",
    "| **Criterio**                                       | **Excelente (4)**                                                                                                                                             | **Bueno (3)**                                                                                                                                         | **Satisfactorio (2)**                                                                                                                       | **Insuficiente (1)**                                                                                                     |\n",
    "|----------------------------------------------------|---------------------------------------------------------------------------------------------------------------------------------------------------------------|-------------------------------------------------------------------------------------------------------------------------------------------------------|--------------------------------------------------------------------------------------------------------------------------------------------|-------------------------------------------------------------------------------------------------------------------------|\n",
    "| **Implementación de la Técnica de Compresión**     | Implementa correctamente la técnica de compresión con justificación técnica detallada y coherente.                                                             | Implementa la técnica de compresión de forma correcta, con una justificación aceptable, aunque con menor profundidad en algunos aspectos.             | La implementación es parcial o presenta errores, y la justificación resulta insuficiente para comprender su impacto en el modelo.           | La técnica de compresión no se implementa o se implementa de manera incorrecta, sin ofrecer justificación o evidencias técnicas. |\n",
    "| **Comparativa de Rendimiento**                     | Realiza una comparativa detallada y estructurada entre el modelo original y el modelo con compresión, con evidencias claras (gráficos, tablas, métricas) que demuestran mejoras significativas. | Presenta una comparativa adecuada mostrando diferencias claras en el rendimiento, aunque el análisis puede ser menos exhaustivo.                        | Se presenta una comparativa, pero el análisis y la evidencia son insuficientes o poco claros para evaluar correctamente el impacto.         | No se presenta una comparativa o la evidencia es deficiente, dificultando la evaluación del rendimiento entre las dos versiones. |\n",
    "| **Conclusiones y Análisis Final**                  | Extrae conclusiones fundamentadas y bien argumentadas, evidenciando un análisis profundo de las ventajas y limitaciones de la técnica de compresión aplicada.  | Presenta conclusiones coherentes y justificadas, aunque el análisis podría ser más profundo o detallado.                                               | Las conclusiones son generales y poco detalladas, sin un análisis claro del impacto de la compresión en el desempeño del modelo.             | No se presentan conclusiones claras o el análisis es insuficiente, sin respaldar el impacto de la técnica de compresión en el modelo. |\n",
    "| **Integración y Justificación General**            | Integra de forma perfecta la técnica de compresión en el flujo del modelo, justificando todas las decisiones y mostrando coherencia en el proceso de mejora.  | La integración es adecuada y se justifican la mayoría de las decisiones, aunque existen áreas donde la argumentación podría ser más sólida.             | La integración se realiza de manera parcial o poco clara, y la justificación de las decisiones es escasa o confusa.                          | La integración es deficiente y no se justifica adecuadamente la elección o aplicación de la técnica de compresión.             |\n",
    "\n",
    "---\n",
    "\n",
    "### Consideraciones Generales\n",
    "\n",
    "- El notebook debe incluir todas las celdas ejecutadas, estar organizado y debidamente documentado.\n",
    "- Se valorará la precisión técnica, la claridad en la exposición de resultados, y la capacidad para argumentar y justificar las decisiones tomadas.\n",
    "\n",
    "*Si el trabajo no es entregado o está incompleto, se asignará la nota 0 en el ítem correspondiente.*\n"
   ]
  },
  {
   "cell_type": "code",
   "execution_count": null,
   "id": "68b0de0b-bc75-4944-b574-2610b4c0c02b",
   "metadata": {},
   "outputs": [],
   "source": [
    "import tensorflow as tf\n",
    "from tensorflow.keras.applications.inception_v3 import InceptionV3, preprocess_input, decode_predictions\n",
    "from tensorflow.keras.preprocessing import image\n",
    "import numpy as np"
   ]
  },
  {
   "cell_type": "code",
   "execution_count": null,
   "id": "e123d012",
   "metadata": {},
   "outputs": [],
   "source": [
    "# Cargar el modelo preentrenado InceptionV3\n",
    "model = InceptionV3(weights='imagenet')\n",
    "\n",
    "# Cargar y preprocesar una imagen de ejemplo\n",
    "img_path = '../images/camion.jpg'\n",
    "img = image.load_img(img_path, target_size=(299, 299))\n",
    "x = image.img_to_array(img)\n",
    "x = np.expand_dims(x, axis=0)\n",
    "\n",
    "x = preprocess_input(x)\n",
    "\n",
    "\n",
    "print(\"La imagen tiene la forma \",x.shape)\n",
    "\n",
    "# Realizar la clasificación de la imagen\n",
    "predictions = model.predict(x)\n",
    "decoded_predictions = decode_predictions(predictions, top=3)[0]\n",
    "\n",
    "# Imprimir las predicciones\n",
    "for pred in decoded_predictions:\n",
    "    print(f\"{pred[1]}: {pred[2]*100:.2f}%\")"
   ]
  },
  {
   "cell_type": "code",
   "execution_count": null,
   "id": "a8ea9705",
   "metadata": {},
   "outputs": [],
   "source": [
    "model.summary()"
   ]
  },
  {
   "cell_type": "code",
   "execution_count": null,
   "id": "85cc8cf5",
   "metadata": {},
   "outputs": [],
   "source": []
  }
 ],
 "metadata": {
  "kernelspec": {
   "display_name": "base",
   "language": "python",
   "name": "python3"
  },
  "language_info": {
   "codemirror_mode": {
    "name": "ipython",
    "version": 3
   },
   "file_extension": ".py",
   "mimetype": "text/x-python",
   "name": "python",
   "nbconvert_exporter": "python",
   "pygments_lexer": "ipython3",
   "version": "3.11.7"
  }
 },
 "nbformat": 4,
 "nbformat_minor": 5
}
