{
 "cells": [
  {
   "cell_type": "markdown",
   "id": "89639729-856f-4195-a27a-c02a3e76aadb",
   "metadata": {},
   "source": [
    "<img src=\"../img/Logo.png\" width=\"200\">\n",
    "\n",
    "# Aprendizaje por Imágenes\n",
    "# Ejercicio - Modelo Preentrenado InceptionV3\n",
    "\n",
    "### Profesor: Jorge Calvo\n",
    "\n",
    "## Modelo Inception V3\n",
    "\n",
    "https://keras.io/api/applications/inceptionv3/\n",
    "\n",
    "En esta actividad, el alumno debe evaluar la clasificación de imágenes en el dataset Caltech 101. \n",
    "Descarga del dataset: https://data.caltech.edu/records/mzrjq-6wc02\n",
    "\n",
    "### Estrategia: Red pre-entrenada\n",
    "\n",
    "Incluir la utilización de una red preentrenada con el dataset ImageNet, para ello se usará un modelo como **InceptionV3** llevando a cabo tareas de *transfer learning* y *fine-tuning* para clasificar los objetos de Caltech 101. \n",
    "Se espera que el alumno utilice todas las técnicas de optimización que conoce (weight regularization, dropout, batch normalization, data augmentation..) y añada obligatoriamente una de las dos técnicas de compresión vistas en clase (Reducción de color con clustering o reducción de información con SVD) de forma justificada para la mejora del rendimiento de la red neuronal.\n",
    "\n",
    "### Objetivo: Resultados y conclusiones\n",
    "\n",
    "Se debe realizar una comparativa de rendimiento y eficacia entre el uso o no de las tecnicas de compresión.\n",
    "\n",
    "### Entrega:\n",
    "Se hará la entrega del notebook **CON TODAS LAS CELDAS EJECUTADAS** en la tarea establecida en el campus y en la fecha marcada."
   ]
  },
  {
   "cell_type": "code",
   "execution_count": null,
   "id": "68b0de0b-bc75-4944-b574-2610b4c0c02b",
   "metadata": {},
   "outputs": [],
   "source": [
    "import tensorflow as tf\n",
    "from tensorflow.keras.applications.inception_v3 import InceptionV3, preprocess_input, decode_predictions\n",
    "from tensorflow.keras.preprocessing import image\n",
    "import numpy as np"
   ]
  },
  {
   "cell_type": "code",
   "execution_count": null,
   "id": "e123d012",
   "metadata": {},
   "outputs": [],
   "source": [
    "# Cargar el modelo preentrenado InceptionV3\n",
    "model = InceptionV3(weights='imagenet')\n",
    "\n",
    "# Cargar y preprocesar una imagen de ejemplo\n",
    "img_path = '../images/camion.jpg'\n",
    "img = image.load_img(img_path, target_size=(299, 299))\n",
    "x = image.img_to_array(img)\n",
    "x = np.expand_dims(x, axis=0)\n",
    "x = preprocess_input(x)\n",
    "\n",
    "\n",
    "print(\"La imagen tiene la forma \",x.shape)\n",
    "\n",
    "# Realizar la clasificación de la imagen\n",
    "predictions = model.predict(x)\n",
    "decoded_predictions = decode_predictions(predictions, top=3)[0]\n",
    "\n",
    "# Imprimir las predicciones\n",
    "for pred in decoded_predictions:\n",
    "    print(f\"{pred[1]}: {pred[2]*100:.2f}%\")"
   ]
  }
 ],
 "metadata": {
  "kernelspec": {
   "display_name": "Python 3 (ipykernel)",
   "language": "python",
   "name": "python3"
  },
  "language_info": {
   "codemirror_mode": {
    "name": "ipython",
    "version": 3
   },
   "file_extension": ".py",
   "mimetype": "text/x-python",
   "name": "python",
   "nbconvert_exporter": "python",
   "pygments_lexer": "ipython3",
   "version": "3.9.12"
  }
 },
 "nbformat": 4,
 "nbformat_minor": 5
}
