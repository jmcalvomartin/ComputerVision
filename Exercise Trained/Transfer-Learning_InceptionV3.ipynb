{
 "cells": [
  {
   "cell_type": "markdown",
   "id": "89639729-856f-4195-a27a-c02a3e76aadb",
   "metadata": {},
   "source": [
    "<img src=\"../img/Logo.png\" width=\"200\">\n",
    "\n",
    "# Aprendizaje por Imágenes\n",
    "# Ejercicio - Modelo Preentrenado InceptionV3\n",
    "\n",
    "### Profesor: Jorge Calvo\n",
    "\n",
    "## Modelo Inception V3\n",
    "\n",
    "https://keras.io/api/applications/inceptionv3/"
   ]
  },
  {
   "cell_type": "code",
   "execution_count": null,
   "id": "68b0de0b-bc75-4944-b574-2610b4c0c02b",
   "metadata": {},
   "outputs": [],
   "source": [
    "import tensorflow as tf\n",
    "from tensorflow.keras.applications.inception_v3 import InceptionV3, preprocess_input, decode_predictions\n",
    "from tensorflow.keras.preprocessing import image\n",
    "import numpy as np"
   ]
  }
 ],
 "metadata": {
  "kernelspec": {
   "display_name": "Python 3 (ipykernel)",
   "language": "python",
   "name": "python3"
  },
  "language_info": {
   "codemirror_mode": {
    "name": "ipython",
    "version": 3
   },
   "file_extension": ".py",
   "mimetype": "text/x-python",
   "name": "python",
   "nbconvert_exporter": "python",
   "pygments_lexer": "ipython3",
   "version": "3.9.12"
  }
 },
 "nbformat": 4,
 "nbformat_minor": 5
}
